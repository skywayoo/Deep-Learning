{
 "cells": [
  {
   "cell_type": "code",
   "execution_count": 1,
   "metadata": {
    "collapsed": false
   },
   "outputs": [
    {
     "name": "stderr",
     "output_type": "stream",
     "text": [
      "Using Theano backend.\n",
      "Using gpu device 0: Quadro K620 (CNMeM is disabled, cuDNN not available)\n"
     ]
    }
   ],
   "source": [
    "import numpy as np\n",
    "from keras.preprocessing import sequence\n",
    "from keras.models import Sequential,Model\n",
    "from keras.layers import Dense, Dropout, Activation, Flatten\n",
    "from keras.layers import Convolution2D, AveragePooling2D\n",
    "from keras.utils.np_utils import to_categorical"
   ]
  },
  {
   "cell_type": "code",
   "execution_count": 2,
   "metadata": {
    "collapsed": false
   },
   "outputs": [],
   "source": [
    "train=open(\"Downloads/Gun_Point_TRAIN\")\n",
    "test=open(\"Downloads/Gun_Point_TEST\")\n",
    "train = train.read().split()\n",
    "test = test.read().split()"
   ]
  },
  {
   "cell_type": "code",
   "execution_count": 3,
   "metadata": {
    "collapsed": false
   },
   "outputs": [
    {
     "name": "stdout",
     "output_type": "stream",
     "text": [
      "(50, 151)\n",
      "(150, 151)\n"
     ]
    }
   ],
   "source": [
    "train = np.array_split(np.array(train),50)\n",
    "test = np.array_split(np.array(test),150)\n",
    "print(np.shape(train))\n",
    "print(np.shape(test))"
   ]
  },
  {
   "cell_type": "code",
   "execution_count": 4,
   "metadata": {
    "collapsed": false
   },
   "outputs": [
    {
     "name": "stdout",
     "output_type": "stream",
     "text": [
      "('train labels = ', [2.0, 2.0, 1.0, 1.0, 2.0, 2.0, 2.0, 2.0, 2.0, 1.0, 1.0, 1.0, 1.0, 1.0, 2.0, 1.0, 2.0, 2.0, 1.0, 2.0, 1.0, 1.0, 1.0, 2.0, 1.0, 2.0, 1.0, 1.0, 2.0, 1.0, 1.0, 2.0, 2.0, 1.0, 2.0, 1.0, 2.0, 2.0, 2.0, 2.0, 2.0, 1.0, 1.0, 1.0, 2.0, 2.0, 1.0, 2.0, 1.0, 2.0])\n"
     ]
    }
   ],
   "source": [
    "#get the label of train and test\n",
    "def Get_label(data):\n",
    "    label=[]\n",
    "    for i in range(0,len(data)):\n",
    "        label.append(float(data[i][0]))\n",
    "    return label\n",
    "y_train = Get_label(train)\n",
    "y_test= Get_label(test)\n",
    "print('train labels = ',y_train)"
   ]
  },
  {
   "cell_type": "code",
   "execution_count": 5,
   "metadata": {
    "collapsed": false
   },
   "outputs": [
    {
     "name": "stdout",
     "output_type": "stream",
     "text": [
      "('shape:', (150, 150))\n",
      "('shape:', (50, 150))\n"
     ]
    }
   ],
   "source": [
    "#get the value of train and test\n",
    "def Get_value(data):\n",
    "    value=[]\n",
    "    for i in range(0,len(data)):\n",
    "        value.append(data[i][1:151])\n",
    "    return value\n",
    "X_train=Get_value(train)\n",
    "X_test=Get_value(test)\n",
    "print('shape:',np.shape(X_test))\n",
    "print('shape:',np.shape(X_train))"
   ]
  },
  {
   "cell_type": "code",
   "execution_count": 7,
   "metadata": {
    "collapsed": false
   },
   "outputs": [
    {
     "name": "stdout",
     "output_type": "stream",
     "text": [
      "(50, 'train sequences')\n",
      "(150, 'test sequences')\n",
      "('X_train shape:', (50, 1, 150, 1))\n",
      "('X_test shape:', (150, 1, 150, 1))\n"
     ]
    }
   ],
   "source": [
    "#set the series \n",
    "length=150\n",
    "X_train=np.asarray(X_train)\n",
    "X_test=np.asarray(X_test)\n",
    "X_train = X_train.astype(np.float32)\n",
    "X_test = X_test.astype(np.float32)\n",
    "y_train = np.asarray(y_train)\n",
    "y_train= y_train.astype(int)\n",
    "y_test = np.asarray(y_test)\n",
    "y_test= y_test.astype(int)\n",
    "y_test=y_test-1\n",
    "y_train=y_train-1\n",
    "X_train=X_train.reshape(50,1,150,1)\n",
    "X_test=X_test.reshape(150,1,150,1)\n",
    "\n",
    "print(len(X_train), 'train sequences')\n",
    "print(len(X_test), 'test sequences')\n",
    "print('X_train shape:', X_train.shape)\n",
    "print('X_test shape:', X_test.shape)"
   ]
  },
  {
   "cell_type": "code",
   "execution_count": 8,
   "metadata": {
    "collapsed": false
   },
   "outputs": [],
   "source": [
    "def process_output(labels):\n",
    "    return to_categorical(labels, nb_classes=2)\n",
    "y_train = process_output(y_train)\n",
    "y_test = process_output(y_test)"
   ]
  },
  {
   "cell_type": "code",
   "execution_count": 9,
   "metadata": {
    "collapsed": false
   },
   "outputs": [
    {
     "name": "stdout",
     "output_type": "stream",
     "text": [
      "Building model...\n"
     ]
    }
   ],
   "source": [
    "print('Building model...')\n",
    "model = Sequential()\n",
    "#1st convolution\n",
    "model.add(Convolution2D(50,8,1,input_shape=(1, 150, 1)))\n",
    "model.add(Activation('relu'))\n",
    "model.add(AveragePooling2D(pool_size=(2,1)))\n",
    "#2st convolution\n",
    "model.add(Convolution2D(100,8,1))\n",
    "model.add(Activation('relu'))\n",
    "model.add(AveragePooling2D(pool_size=(2,1)))\n",
    "model.add(Flatten())\n",
    "#fulley connected layer\n",
    "model.add(Dense(500,activation=\"relu\"))\n",
    "model.add(Dense(2))\n",
    "#softmax\n",
    "model.add(Activation('softmax'))\n",
    "\n",
    "model.compile(loss='categorical_crossentropy',\n",
    "              optimizer='adadelta',\n",
    "              metrics=['accuracy'])"
   ]
  },
  {
   "cell_type": "code",
   "execution_count": 10,
   "metadata": {
    "collapsed": false
   },
   "outputs": [
    {
     "name": "stdout",
     "output_type": "stream",
     "text": [
      "Train on 50 samples, validate on 150 samples\n",
      "Epoch 1/10\n",
      "50/50 [==============================] - 2s - loss: 0.7123 - acc: 0.5200 - val_loss: 0.9626 - val_acc: 0.5067\n",
      "Epoch 2/10\n",
      "50/50 [==============================] - 2s - loss: 0.9636 - acc: 0.4800 - val_loss: 1.3310 - val_acc: 0.4933\n",
      "Epoch 3/10\n",
      "50/50 [==============================] - 2s - loss: 1.2333 - acc: 0.5200 - val_loss: 0.8368 - val_acc: 0.5067\n",
      "Epoch 4/10\n",
      "50/50 [==============================] - 2s - loss: 0.8232 - acc: 0.4800 - val_loss: 0.6755 - val_acc: 0.4933\n",
      "Epoch 5/10\n",
      "50/50 [==============================] - 2s - loss: 0.5903 - acc: 0.5200 - val_loss: 0.5747 - val_acc: 0.6800\n",
      "Epoch 6/10\n",
      "50/50 [==============================] - 2s - loss: 0.5148 - acc: 0.7400 - val_loss: 0.5636 - val_acc: 0.6600\n",
      "Epoch 7/10\n",
      "50/50 [==============================] - 2s - loss: 0.4568 - acc: 0.7400 - val_loss: 0.5162 - val_acc: 0.7267\n",
      "Epoch 8/10\n",
      "50/50 [==============================] - 2s - loss: 0.4253 - acc: 0.8400 - val_loss: 0.5283 - val_acc: 0.7000\n",
      "Epoch 9/10\n",
      "50/50 [==============================] - 2s - loss: 0.3972 - acc: 0.8600 - val_loss: 0.4914 - val_acc: 0.7533\n",
      "Epoch 10/10\n",
      "50/50 [==============================] - 2s - loss: 0.3808 - acc: 0.8400 - val_loss: 0.5145 - val_acc: 0.7000\n"
     ]
    },
    {
     "data": {
      "text/plain": [
       "<keras.callbacks.History at 0x7f916af55550>"
      ]
     },
     "execution_count": 10,
     "metadata": {},
     "output_type": "execute_result"
    }
   ],
   "source": [
    "batch_size = 50\n",
    "nb_epoch = 10\n",
    "\n",
    "model.fit(X_train, y_train,\n",
    "          batch_size=batch_size,\n",
    "          nb_epoch=nb_epoch,\n",
    "          validation_data=(X_test, y_test))"
   ]
  },
  {
   "cell_type": "code",
   "execution_count": 11,
   "metadata": {
    "collapsed": false
   },
   "outputs": [
    {
     "name": "stdout",
     "output_type": "stream",
     "text": [
      "____________________________________________________________________________________________________\n",
      "Layer (type)                       Output Shape        Param #     Connected to                     \n",
      "====================================================================================================\n",
      "convolution2d_1 (Convolution2D)    (None, 50, 143, 1)  450         convolution2d_input_1[0][0]      \n",
      "____________________________________________________________________________________________________\n",
      "activation_1 (Activation)          (None, 50, 143, 1)  0           convolution2d_1[0][0]            \n",
      "____________________________________________________________________________________________________\n",
      "averagepooling2d_1 (AveragePooling2(None, 50, 71, 1)   0           activation_1[0][0]               \n",
      "____________________________________________________________________________________________________\n",
      "convolution2d_2 (Convolution2D)    (None, 100, 64, 1)  40100       averagepooling2d_1[0][0]         \n",
      "____________________________________________________________________________________________________\n",
      "activation_2 (Activation)          (None, 100, 64, 1)  0           convolution2d_2[0][0]            \n",
      "____________________________________________________________________________________________________\n",
      "averagepooling2d_2 (AveragePooling2(None, 100, 32, 1)  0           activation_2[0][0]               \n",
      "____________________________________________________________________________________________________\n",
      "flatten_1 (Flatten)                (None, 3200)        0           averagepooling2d_2[0][0]         \n",
      "____________________________________________________________________________________________________\n",
      "dense_1 (Dense)                    (None, 500)         1600500     flatten_1[0][0]                  \n",
      "____________________________________________________________________________________________________\n",
      "dense_2 (Dense)                    (None, 2)           1002        dense_1[0][0]                    \n",
      "____________________________________________________________________________________________________\n",
      "activation_3 (Activation)          (None, 2)           0           dense_2[0][0]                    \n",
      "====================================================================================================\n",
      "Total params: 1642052\n",
      "____________________________________________________________________________________________________\n",
      "None\n"
     ]
    }
   ],
   "source": [
    "print(model.summary())"
   ]
  },
  {
   "cell_type": "code",
   "execution_count": 12,
   "metadata": {
    "collapsed": false
   },
   "outputs": [
    {
     "name": "stdout",
     "output_type": "stream",
     "text": [
      "('Test score:', 0.51452524344126382)\n",
      "('Test accuracy:', 0.6999999968210856)\n"
     ]
    }
   ],
   "source": [
    "score = model.evaluate(X_test, y_test, verbose=0)\n",
    "print('Test score:', score[0])\n",
    "print('Test accuracy:', score[1])"
   ]
  },
  {
   "cell_type": "code",
   "execution_count": null,
   "metadata": {
    "collapsed": true
   },
   "outputs": [],
   "source": []
  }
 ],
 "metadata": {
  "kernelspec": {
   "display_name": "Python 2",
   "language": "python",
   "name": "python2"
  },
  "language_info": {
   "codemirror_mode": {
    "name": "ipython",
    "version": 2
   },
   "file_extension": ".py",
   "mimetype": "text/x-python",
   "name": "python",
   "nbconvert_exporter": "python",
   "pygments_lexer": "ipython2",
   "version": "2.7.6"
  }
 },
 "nbformat": 4,
 "nbformat_minor": 0
}
